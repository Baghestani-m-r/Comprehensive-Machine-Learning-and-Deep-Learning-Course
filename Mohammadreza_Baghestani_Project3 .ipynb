{
  "nbformat": 4,
  "nbformat_minor": 0,
  "metadata": {
    "colab": {
      "provenance": []
    },
    "kernelspec": {
      "name": "python3",
      "display_name": "Python 3"
    },
    "language_info": {
      "name": "python"
    }
  },
  "cells": [
    {
      "cell_type": "markdown",
      "source": [
        "***In the name of God***\n",
        "\n",
        "\n",
        "#**Project Report: Medical Transcript Classification System**\n",
        "**Student: : Mohammad Reza Baghestani**\n",
        "\n",
        "*   Supervisor: Dr. Amir Zamanidoost\n",
        "*   date : September 11, 2025"
      ],
      "metadata": {
        "id": "SHIJgfiBW1Li"
      }
    },
    {
      "cell_type": "markdown",
      "source": [
        "All required libraries are imported here to keep the code clean and organized. This includes data handling with pandas, text processing using string and Counter, machine learning with scikit-learn components and XGBoost, progress tracking through tqdm, and file uploads with google.colab.files."
      ],
      "metadata": {
        "id": "qP8l6mwxWwv2"
      }
    },
    {
      "cell_type": "code",
      "source": [
        "!pip install pandas scikit-learn numpy tqdm xgboost\n",
        "import pandas as pd\n",
        "import string\n",
        "from collections import Counter\n",
        "import numpy as np\n",
        "from sklearn.linear_model import LogisticRegression\n",
        "from sklearn.tree import DecisionTreeClassifier\n",
        "from sklearn.ensemble import RandomForestClassifier\n",
        "from xgboost import XGBClassifier\n",
        "from sklearn.model_selection import GridSearchCV\n",
        "from sklearn.metrics import f1_score\n",
        "from sklearn.preprocessing import normalize\n",
        "from tqdm import tqdm\n",
        "from google.colab import files"
      ],
      "metadata": {
        "id": "OQoCI5L38UT7",
        "outputId": "488ca914-ed92-4bb4-d047-5899bbd6e037",
        "colab": {
          "base_uri": "https://localhost:8080/"
        }
      },
      "execution_count": 1,
      "outputs": [
        {
          "output_type": "stream",
          "name": "stdout",
          "text": [
            "Requirement already satisfied: pandas in /usr/local/lib/python3.12/dist-packages (2.2.2)\n",
            "Requirement already satisfied: scikit-learn in /usr/local/lib/python3.12/dist-packages (1.6.1)\n",
            "Requirement already satisfied: numpy in /usr/local/lib/python3.12/dist-packages (2.0.2)\n",
            "Requirement already satisfied: tqdm in /usr/local/lib/python3.12/dist-packages (4.67.1)\n",
            "Requirement already satisfied: xgboost in /usr/local/lib/python3.12/dist-packages (3.0.4)\n",
            "Requirement already satisfied: python-dateutil>=2.8.2 in /usr/local/lib/python3.12/dist-packages (from pandas) (2.9.0.post0)\n",
            "Requirement already satisfied: pytz>=2020.1 in /usr/local/lib/python3.12/dist-packages (from pandas) (2025.2)\n",
            "Requirement already satisfied: tzdata>=2022.7 in /usr/local/lib/python3.12/dist-packages (from pandas) (2025.2)\n",
            "Requirement already satisfied: scipy>=1.6.0 in /usr/local/lib/python3.12/dist-packages (from scikit-learn) (1.16.1)\n",
            "Requirement already satisfied: joblib>=1.2.0 in /usr/local/lib/python3.12/dist-packages (from scikit-learn) (1.5.2)\n",
            "Requirement already satisfied: threadpoolctl>=3.1.0 in /usr/local/lib/python3.12/dist-packages (from scikit-learn) (3.6.0)\n",
            "Requirement already satisfied: nvidia-nccl-cu12 in /usr/local/lib/python3.12/dist-packages (from xgboost) (2.27.3)\n",
            "Requirement already satisfied: six>=1.5 in /usr/local/lib/python3.12/dist-packages (from python-dateutil>=2.8.2->pandas) (1.17.0)\n"
          ]
        }
      ]
    },
    {
      "cell_type": "markdown",
      "source": [
        "# Section 1: Upload and Load Data  \n",
        "This section covers how to upload CSV files (train.csv, valid.csv, test.csv) to Colab and load them into pandas DataFrames. It extracts the text and label columns, changes the labels to 0-based indexing for model compatibility, and checks the data lengths to ensure consistency and avoid runtime errors."
      ],
      "metadata": {
        "id": "Yj5uv57LW5m5"
      }
    },
    {
      "cell_type": "code",
      "source": [
        "uploaded = files.upload()\n",
        "for filename in uploaded.keys():\n",
        "    print(f'File {filename} uploaded successfully, size: {len(uploaded[filename])} bytes')\n",
        "\n",
        "try:\n",
        "    train_df = pd.read_csv('train.csv', skip_blank_lines=True)\n",
        "    val_df = pd.read_csv('valid.csv', skip_blank_lines=True)\n",
        "    test_df = pd.read_csv('test.csv', skip_blank_lines=True)\n",
        "    assert all(col in train_df.columns for col in ['label', 'text']), \"Missing columns in train.csv\"\n",
        "    assert all(col in val_df.columns for col in ['label', 'text']), \"Missing columns in valid.csv\"\n",
        "    assert all(col in test_df.columns for col in ['label', 'text']), \"Missing columns in test.csv\"\n",
        "except Exception as e:\n",
        "    print(f\"Error loading data: {e}\")\n",
        "    raise\n",
        "\n",
        "train_transcripts = train_df['text'].tolist()\n",
        "val_transcripts = val_df['text'].tolist()\n",
        "test_transcripts = test_df['text'].tolist()\n",
        "\n",
        "train_classes = [label - 1 for label in train_df['label'].tolist()]\n",
        "val_classes = [label - 1 for label in val_df['label'].tolist()]\n",
        "test_classes = [label - 1 for label in test_df['label'].tolist()]\n",
        "\n",
        "assert len(train_transcripts) == len(train_classes), \"Train data mismatch\"\n",
        "assert len(val_transcripts) == len(val_classes), \"Val data mismatch\"\n",
        "assert len(test_transcripts) == len(test_classes), \"Test data mismatch\""
      ],
      "metadata": {
        "id": "75M51-S28Y5Z",
        "colab": {
          "base_uri": "https://localhost:8080/",
          "height": 198
        },
        "outputId": "48852e96-a269-43e5-b63d-630f9066e536"
      },
      "execution_count": 2,
      "outputs": [
        {
          "output_type": "display_data",
          "data": {
            "text/plain": [
              "<IPython.core.display.HTML object>"
            ],
            "text/html": [
              "\n",
              "     <input type=\"file\" id=\"files-dc604ca7-9da0-4ede-a7c9-37b273811f96\" name=\"files[]\" multiple disabled\n",
              "        style=\"border:none\" />\n",
              "     <output id=\"result-dc604ca7-9da0-4ede-a7c9-37b273811f96\">\n",
              "      Upload widget is only available when the cell has been executed in the\n",
              "      current browser session. Please rerun this cell to enable.\n",
              "      </output>\n",
              "      <script>// Copyright 2017 Google LLC\n",
              "//\n",
              "// Licensed under the Apache License, Version 2.0 (the \"License\");\n",
              "// you may not use this file except in compliance with the License.\n",
              "// You may obtain a copy of the License at\n",
              "//\n",
              "//      http://www.apache.org/licenses/LICENSE-2.0\n",
              "//\n",
              "// Unless required by applicable law or agreed to in writing, software\n",
              "// distributed under the License is distributed on an \"AS IS\" BASIS,\n",
              "// WITHOUT WARRANTIES OR CONDITIONS OF ANY KIND, either express or implied.\n",
              "// See the License for the specific language governing permissions and\n",
              "// limitations under the License.\n",
              "\n",
              "/**\n",
              " * @fileoverview Helpers for google.colab Python module.\n",
              " */\n",
              "(function(scope) {\n",
              "function span(text, styleAttributes = {}) {\n",
              "  const element = document.createElement('span');\n",
              "  element.textContent = text;\n",
              "  for (const key of Object.keys(styleAttributes)) {\n",
              "    element.style[key] = styleAttributes[key];\n",
              "  }\n",
              "  return element;\n",
              "}\n",
              "\n",
              "// Max number of bytes which will be uploaded at a time.\n",
              "const MAX_PAYLOAD_SIZE = 100 * 1024;\n",
              "\n",
              "function _uploadFiles(inputId, outputId) {\n",
              "  const steps = uploadFilesStep(inputId, outputId);\n",
              "  const outputElement = document.getElementById(outputId);\n",
              "  // Cache steps on the outputElement to make it available for the next call\n",
              "  // to uploadFilesContinue from Python.\n",
              "  outputElement.steps = steps;\n",
              "\n",
              "  return _uploadFilesContinue(outputId);\n",
              "}\n",
              "\n",
              "// This is roughly an async generator (not supported in the browser yet),\n",
              "// where there are multiple asynchronous steps and the Python side is going\n",
              "// to poll for completion of each step.\n",
              "// This uses a Promise to block the python side on completion of each step,\n",
              "// then passes the result of the previous step as the input to the next step.\n",
              "function _uploadFilesContinue(outputId) {\n",
              "  const outputElement = document.getElementById(outputId);\n",
              "  const steps = outputElement.steps;\n",
              "\n",
              "  const next = steps.next(outputElement.lastPromiseValue);\n",
              "  return Promise.resolve(next.value.promise).then((value) => {\n",
              "    // Cache the last promise value to make it available to the next\n",
              "    // step of the generator.\n",
              "    outputElement.lastPromiseValue = value;\n",
              "    return next.value.response;\n",
              "  });\n",
              "}\n",
              "\n",
              "/**\n",
              " * Generator function which is called between each async step of the upload\n",
              " * process.\n",
              " * @param {string} inputId Element ID of the input file picker element.\n",
              " * @param {string} outputId Element ID of the output display.\n",
              " * @return {!Iterable<!Object>} Iterable of next steps.\n",
              " */\n",
              "function* uploadFilesStep(inputId, outputId) {\n",
              "  const inputElement = document.getElementById(inputId);\n",
              "  inputElement.disabled = false;\n",
              "\n",
              "  const outputElement = document.getElementById(outputId);\n",
              "  outputElement.innerHTML = '';\n",
              "\n",
              "  const pickedPromise = new Promise((resolve) => {\n",
              "    inputElement.addEventListener('change', (e) => {\n",
              "      resolve(e.target.files);\n",
              "    });\n",
              "  });\n",
              "\n",
              "  const cancel = document.createElement('button');\n",
              "  inputElement.parentElement.appendChild(cancel);\n",
              "  cancel.textContent = 'Cancel upload';\n",
              "  const cancelPromise = new Promise((resolve) => {\n",
              "    cancel.onclick = () => {\n",
              "      resolve(null);\n",
              "    };\n",
              "  });\n",
              "\n",
              "  // Wait for the user to pick the files.\n",
              "  const files = yield {\n",
              "    promise: Promise.race([pickedPromise, cancelPromise]),\n",
              "    response: {\n",
              "      action: 'starting',\n",
              "    }\n",
              "  };\n",
              "\n",
              "  cancel.remove();\n",
              "\n",
              "  // Disable the input element since further picks are not allowed.\n",
              "  inputElement.disabled = true;\n",
              "\n",
              "  if (!files) {\n",
              "    return {\n",
              "      response: {\n",
              "        action: 'complete',\n",
              "      }\n",
              "    };\n",
              "  }\n",
              "\n",
              "  for (const file of files) {\n",
              "    const li = document.createElement('li');\n",
              "    li.append(span(file.name, {fontWeight: 'bold'}));\n",
              "    li.append(span(\n",
              "        `(${file.type || 'n/a'}) - ${file.size} bytes, ` +\n",
              "        `last modified: ${\n",
              "            file.lastModifiedDate ? file.lastModifiedDate.toLocaleDateString() :\n",
              "                                    'n/a'} - `));\n",
              "    const percent = span('0% done');\n",
              "    li.appendChild(percent);\n",
              "\n",
              "    outputElement.appendChild(li);\n",
              "\n",
              "    const fileDataPromise = new Promise((resolve) => {\n",
              "      const reader = new FileReader();\n",
              "      reader.onload = (e) => {\n",
              "        resolve(e.target.result);\n",
              "      };\n",
              "      reader.readAsArrayBuffer(file);\n",
              "    });\n",
              "    // Wait for the data to be ready.\n",
              "    let fileData = yield {\n",
              "      promise: fileDataPromise,\n",
              "      response: {\n",
              "        action: 'continue',\n",
              "      }\n",
              "    };\n",
              "\n",
              "    // Use a chunked sending to avoid message size limits. See b/62115660.\n",
              "    let position = 0;\n",
              "    do {\n",
              "      const length = Math.min(fileData.byteLength - position, MAX_PAYLOAD_SIZE);\n",
              "      const chunk = new Uint8Array(fileData, position, length);\n",
              "      position += length;\n",
              "\n",
              "      const base64 = btoa(String.fromCharCode.apply(null, chunk));\n",
              "      yield {\n",
              "        response: {\n",
              "          action: 'append',\n",
              "          file: file.name,\n",
              "          data: base64,\n",
              "        },\n",
              "      };\n",
              "\n",
              "      let percentDone = fileData.byteLength === 0 ?\n",
              "          100 :\n",
              "          Math.round((position / fileData.byteLength) * 100);\n",
              "      percent.textContent = `${percentDone}% done`;\n",
              "\n",
              "    } while (position < fileData.byteLength);\n",
              "  }\n",
              "\n",
              "  // All done.\n",
              "  yield {\n",
              "    response: {\n",
              "      action: 'complete',\n",
              "    }\n",
              "  };\n",
              "}\n",
              "\n",
              "scope.google = scope.google || {};\n",
              "scope.google.colab = scope.google.colab || {};\n",
              "scope.google.colab._files = {\n",
              "  _uploadFiles,\n",
              "  _uploadFilesContinue,\n",
              "};\n",
              "})(self);\n",
              "</script> "
            ]
          },
          "metadata": {}
        },
        {
          "output_type": "stream",
          "name": "stdout",
          "text": [
            "Saving test.csv to test (2).csv\n",
            "Saving train.csv to train (2).csv\n",
            "Saving valid.csv to valid (2).csv\n",
            "File test (2).csv uploaded successfully, size: 1646779 bytes\n",
            "File train (2).csv uploaded successfully, size: 12832246 bytes\n",
            "File valid (2).csv uploaded successfully, size: 1608281 bytes\n"
          ]
        }
      ]
    },
    {
      "cell_type": "markdown",
      "source": [
        "# Section 2: Preprocess Text  \n",
        "This section defines a function to preprocess each medical transcript by converting it to lowercase and removing punctuation. This cleaning is necessary before vectorization, as required by the project. The function is applied to all datasets, ensuring consistent input for the next steps."
      ],
      "metadata": {
        "id": "o4dJiSvRXPL0"
      }
    },
    {
      "cell_type": "code",
      "source": [
        "def clean_transcript(text):\n",
        "    if not isinstance(text, str):\n",
        "        return ''\n",
        "    text = text.lower()\n",
        "    text = text.translate(str.maketrans('', '', string.punctuation))\n",
        "    return text\n",
        "\n",
        "train_transcripts_clean = [clean_transcript(text) for text in train_transcripts]\n",
        "val_transcripts_clean = [clean_transcript(text) for text in val_transcripts]\n",
        "test_transcripts_clean = [clean_transcript(text) for text in test_transcripts]"
      ],
      "metadata": {
        "id": "fcHUD-tn9-K8"
      },
      "execution_count": 3,
      "outputs": []
    },
    {
      "cell_type": "markdown",
      "source": [
        "# Section 3: Build Vocabulary and Generate Frequency Report  \n",
        "This section builds the vocabulary from the cleaned training transcripts only. It sorts words by frequency in descending order and selects the top 10,000 most frequent words. It generates a word_freq_report.txt file that includes each word and its frequency count. It also prints a summary of the top 5 words for immediate review."
      ],
      "metadata": {
        "id": "OARxB4ShXey7"
      }
    },
    {
      "cell_type": "code",
      "source": [
        "all_training_words = ' '.join(train_transcripts_clean).split()\n",
        "word_frequency = Counter(all_training_words)\n",
        "top_10000_terms = sorted(word_frequency.items(), key=lambda x: x[1], reverse=True)[:10000]\n",
        "vocabulary_dict = {term: index + 1 for index, (term, _) in enumerate(top_10000_terms)}\n",
        "\n",
        "with open('word_freq_report.txt', 'w') as f:\n",
        "    f.write(\"Term\\tFrequency\\n\")\n",
        "    for term, freq in top_10000_terms:\n",
        "        f.write(f\"{term}\\t{freq}\\n\")\n",
        "\n",
        "print(\"Vocabulary constructed with top 10,000 terms sorted by frequency descending.\")\n",
        "print(\"Sample of top 5 terms and frequencies:\")\n",
        "for term, freq in top_10000_terms[:5]:\n",
        "    print(f\"{term}: {freq}\")\n",
        "print(\"Full frequency report saved in 'word_freq_report.txt'.\")"
      ],
      "metadata": {
        "id": "_zUX2iNB-AXb",
        "colab": {
          "base_uri": "https://localhost:8080/"
        },
        "outputId": "c23ee1a3-ab26-41fa-8e29-9772db0bf6b4"
      },
      "execution_count": 4,
      "outputs": [
        {
          "output_type": "stream",
          "name": "stdout",
          "text": [
            "Vocabulary constructed with top 10,000 terms sorted by frequency descending.\n",
            "Sample of top 5 terms and frequencies:\n",
            "the: 117063\n",
            "and: 66785\n",
            "was: 56124\n",
            "of: 48284\n",
            "to: 40591\n",
            "Full frequency report saved in 'word_freq_report.txt'.\n"
          ]
        }
      ]
    },
    {
      "cell_type": "markdown",
      "source": [
        "# Section 4: Text Vectorization  \n",
        "This section converts each cleaned medical transcript into a dictionary with exactly 10,000 entries. Each entry shows how often the related vocabulary term appears, using 0 if the term is not present. This results in a 10,000-feature vector for each transcript. This step prepares the data for BBoW and FBoW methods."
      ],
      "metadata": {
        "id": "CUFCSkVWX2W7"
      }
    },
    {
      "cell_type": "code",
      "source": [
        "def vectorize_to_feature_dict(transcript, vocabulary, feature_size=10000):\n",
        "    feature_vector = [0] * feature_size\n",
        "    terms = transcript.split()\n",
        "    term_count = Counter(terms)\n",
        "    for term, count in term_count.items():\n",
        "        if term in vocabulary:\n",
        "            feature_vector[vocabulary[term] - 1] = count\n",
        "    return dict(enumerate(feature_vector))\n",
        "\n",
        "train_feature_vectors = [vectorize_to_feature_dict(transcript, vocabulary_dict) for transcript in train_transcripts_clean]\n",
        "val_feature_vectors = [vectorize_to_feature_dict(transcript, vocabulary_dict) for transcript in val_transcripts_clean]\n",
        "test_feature_vectors = [vectorize_to_feature_dict(transcript, vocabulary_dict) for transcript in test_transcripts_clean]\n",
        "\n",
        "print(\"Sample feature vector for first train transcript (first 5 features):\", dict(list(train_feature_vectors[0].items())[:5]))"
      ],
      "metadata": {
        "id": "5rW1l7k4-Ctm",
        "colab": {
          "base_uri": "https://localhost:8080/"
        },
        "outputId": "4cd70974-d9a5-4e52-df96-619d91b01300"
      },
      "execution_count": 5,
      "outputs": [
        {
          "output_type": "stream",
          "name": "stdout",
          "text": [
            "Sample feature vector for first train transcript (first 5 features): {0: 1, 1: 2, 2: 0, 3: 1, 4: 1}\n"
          ]
        }
      ]
    },
    {
      "cell_type": "markdown",
      "source": [
        "# Section 5: Implement BBoW and FBoW Methods  \n",
        "This section uses the Binary Bag-of-Words (BBoW) method. It converts frequency vectors to binary presence where 1 indicates the term appears and 0 shows it does not. The Frequency Bag-of-Words (FBoW) method normalizes frequencies so they sum to 1. Vectors are changed into matrices for input into the model."
      ],
      "metadata": {
        "id": "wwbgtTsIYGzH"
      }
    },
    {
      "cell_type": "code",
      "source": [
        "def convert_vectors_to_matrix(feature_vectors, feature_size=10000):\n",
        "    return np.array([list(v.values()) for v in feature_vectors])\n",
        "\n",
        "X_train_bbow_matrix = (convert_vectors_to_matrix(train_feature_vectors) > 0).astype(int)\n",
        "X_val_bbow_matrix = (convert_vectors_to_matrix(val_feature_vectors) > 0).astype(int)\n",
        "X_test_bbow_matrix = (convert_vectors_to_matrix(test_feature_vectors) > 0).astype(int)\n",
        "\n",
        "X_train_fbow_matrix = convert_vectors_to_matrix(train_feature_vectors)\n",
        "X_val_fbow_matrix = convert_vectors_to_matrix(val_feature_vectors)\n",
        "X_test_fbow_matrix = convert_vectors_to_matrix(test_feature_vectors)\n",
        "X_train_fbow_matrix = normalize(X_train_fbow_matrix, norm='l1', axis=1)\n",
        "X_val_fbow_matrix = normalize(X_val_fbow_matrix, norm='l1', axis=1)\n",
        "X_test_fbow_matrix = normalize(X_test_fbow_matrix, norm='l1', axis=1)\n",
        "\n",
        "train_classes_array = np.array(train_classes)\n",
        "val_classes_array = np.array(val_classes)\n",
        "test_classes_array = np.array(test_classes)"
      ],
      "metadata": {
        "id": "0wc7P5gF-Ei8"
      },
      "execution_count": 6,
      "outputs": []
    },
    {
      "cell_type": "markdown",
      "source": [
        "# Section 6: Train and Evaluate Models  \n",
        "This section trains Logistic Regression, Decision Tree, Random Forest, and XGBoost models. It uses BBoW and FBoW representations and tunes hyperparameters with GridSearchCV. Performance is evaluated using the macro F1-score on the train, validation, and test sets. Detailed results are provided."
      ],
      "metadata": {
        "id": "_STdneCYYNvs"
      }
    },
    {
      "cell_type": "code",
      "source": [
        "def train_and_evaluate(model, hyperparams_grid, X_train, y_train, X_val, y_val, X_test, y_test, model_name):\n",
        "    print(f\"Starting training for {model_name}...\")\n",
        "    grid_search = GridSearchCV(model, hyperparams_grid, cv=3, scoring='f1_macro', n_jobs=1)\n",
        "    grid_search.fit(X_train, y_train)\n",
        "    best_model = grid_search.best_estimator_\n",
        "\n",
        "    y_train_pred = best_model.predict(X_train)\n",
        "    y_val_pred = best_model.predict(X_val)\n",
        "    y_test_pred = best_model.predict(X_test)\n",
        "\n",
        "    f1_train = f1_score(y_train, y_train_pred, average='macro')\n",
        "    f1_val = f1_score(y_val, y_val_pred, average='macro')\n",
        "    f1_test = f1_score(y_test, y_test_pred, average='macro')\n",
        "\n",
        "    print(f\"Completed {model_name}\")\n",
        "    return f1_train, f1_val, f1_test, grid_search.best_params_\n",
        "\n",
        "model_configs = {\n",
        "    'LogisticRegression': (LogisticRegression(max_iter=2000, solver='liblinear'), {'C': [0.01, 0.1, 1, 10, 100]}),\n",
        "    'DecisionTree': (DecisionTreeClassifier(), {'max_depth': [3, 5, 10, 20, None], 'min_samples_split': [2, 5, 10]}),\n",
        "    'RandomForest': (RandomForestClassifier(n_jobs=1), {'n_estimators': [50, 100, 200], 'max_depth': [5, 10, 20, None]}),\n",
        "    'XGBoost': (XGBClassifier(eval_metric='mlogloss', n_jobs=1), {'learning_rate': [0.01, 0.05, 0.1], 'n_estimators': [50, 100, 200], 'max_depth': [3, 5, 7]})\n",
        "}\n",
        "\n",
        "bbow_results = {}\n",
        "for name, (model, param_grid) in model_configs.items():\n",
        "    bbow_results[name] = train_and_evaluate(model, param_grid, X_train_bbow_matrix, train_classes_array, X_val_bbow_matrix, val_classes_array, X_test_bbow_matrix, test_classes_array, name)\n",
        "\n",
        "fbow_results = {}\n",
        "for name, (model, param_grid) in model_configs.items():\n",
        "    fbow_results[name] = train_and_evaluate(model, param_grid, X_train_fbow_matrix, train_classes_array, X_val_fbow_matrix, val_classes_array, X_test_fbow_matrix, test_classes_array, name)"
      ],
      "metadata": {
        "id": "rVujTZAl-G-T",
        "colab": {
          "base_uri": "https://localhost:8080/"
        },
        "outputId": "e186df6a-72ff-4e45-9ea8-e5fc349f9349"
      },
      "execution_count": null,
      "outputs": [
        {
          "metadata": {
            "tags": null
          },
          "name": "stdout",
          "output_type": "stream",
          "text": [
            "Starting training for LogisticRegression...\n",
            "Completed LogisticRegression\n",
            "Starting training for DecisionTree...\n",
            "Completed DecisionTree\n",
            "Starting training for RandomForest...\n",
            "Completed RandomForest\n",
            "Starting training for XGBoost...\n",
            "Completed XGBoost\n",
            "Starting training for LogisticRegression...\n",
            "Completed LogisticRegression\n",
            "Starting training for DecisionTree...\n",
            "Completed DecisionTree\n",
            "Starting training for RandomForest...\n",
            "Completed RandomForest\n",
            "Starting training for XGBoost...\n"
          ]
        }
      ]
    },
    {
      "cell_type": "markdown",
      "source": [
        "# Section 7: Report F1-Scores  \n",
        "This section shows the F1-scores for the training, validation, and test sets for both BBoW and FBoW representations. It presents this information in a structured format and includes the best hyperparameters for each model."
      ],
      "metadata": {
        "id": "FIia4QBNYeN6"
      }
    },
    {
      "cell_type": "code",
      "source": [
        "print(\"BBoW Results:\")\n",
        "for name, (f1_train, f1_val, f1_test, params) in bbow_results.items():\n",
        "    print(f\"{name}: Train F1={f1_train:.4f}, Val F1={f1_val:.4f}, Test F1={f1_test:.4f}, Best Params={params}\")\n",
        "\n",
        "print(\"\\nFBoW Results:\")\n",
        "for name, (f1_train, f1_val, f1_test, params) in fbow_results.items():\n",
        "    print(f\"{name}: Train F1={f1_train:.4f}, Val F1={f1_val:.4f}, Test F1={f1_test:.4f}, Best Params={params}\")"
      ],
      "metadata": {
        "id": "9rFKXHCx-Ip_"
      },
      "execution_count": null,
      "outputs": []
    },
    {
      "cell_type": "markdown",
      "source": [
        "# Section 8: Generate Deliverable Files  \n",
        "This section creates vocab.txt in the format (word\\tID\\tfreq) and data files (train.txt, val.txt, test.txt) with space-separated word IDs and 1-based labels at the end. It ignores unknown words according to project instructions."
      ],
      "metadata": {
        "id": "WsRaKgWZY55f"
      }
    },
    {
      "cell_type": "code",
      "source": [
        "with open('vocab.txt', 'w') as f:\n",
        "    for word, idx in sorted(vocabulary_dict.items(), key=lambda x: x[1]):\n",
        "        freq = word_frequency.get(word, 0)\n",
        "        f.write(f\"{word}\\t{idx}\\t{freq}\\n\")\n",
        "\n",
        "def generate_data_file(filename, cleaned_transcripts, class_labels):\n",
        "    with open(filename, 'w') as f:\n",
        "        for transcript, label in tqdm(zip(cleaned_transcripts, class_labels), total=len(cleaned_transcripts), desc=f\"Generating {filename}\"):\n",
        "            tokens = transcript.split() if transcript else []\n",
        "            ids = [str(vocabulary_dict.get(token, '')) for token in tokens if token in vocabulary_dict]\n",
        "            line = ' '.join(ids) + f\" {label + 1}\\n\"\n",
        "            f.write(line)\n",
        "\n",
        "generate_data_file('train.txt', train_transcripts_clean, train_classes)\n",
        "generate_data_file('val.txt', val_transcripts_clean, val_classes)\n",
        "generate_data_file('test.txt', test_transcripts_clean, test_classes)"
      ],
      "metadata": {
        "id": "Uy_o28ZV-KVU"
      },
      "execution_count": null,
      "outputs": []
    }
  ]
}